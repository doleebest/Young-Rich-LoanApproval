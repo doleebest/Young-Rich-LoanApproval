{
 "cells": [
  {
   "cell_type": "code",
   "execution_count": null,
   "metadata": {
    "colab": {
     "base_uri": "https://localhost:8080/",
     "height": 165
    },
    "id": "69htlATWiPpH",
    "outputId": "cb14d48e-32d4-42be-f2fb-e006ea520234"
   },
   "outputs": [],
   "source": [
    "import wandb\n",
    "wandb.login()"
   ]
  },
  {
   "cell_type": "code",
   "execution_count": null,
   "metadata": {},
   "outputs": [
    {
     "name": "stderr",
     "output_type": "stream",
     "text": [
      "/opt/conda/lib/python3.11/site-packages/tqdm/auto.py:21: TqdmWarning: IProgress not found. Please update jupyter and ipywidgets. See https://ipywidgets.readthedocs.io/en/stable/user_install.html\n",
      "  from .autonotebook import tqdm as notebook_tqdm\n"
     ]
    },
    {
     "name": "stdout",
     "output_type": "stream",
     "text": [
      "4.46.3\n"
     ]
    }
   ],
   "source": [
    "import transformers\n",
    "import torch\n",
    "print(transformers.__version__)\n",
    "print(torch.__version__)"
   ]
  },
  {
   "cell_type": "code",
   "execution_count": 1,
   "metadata": {},
   "outputs": [
    {
     "name": "stdout",
     "output_type": "stream",
     "text": [
      "GPU 사용 가능 여부: True\n"
     ]
    }
   ],
   "source": [
    "import torch\n",
    "print(\"GPU 사용 가능 여부:\", torch.cuda.is_available())"
   ]
  },
  {
   "cell_type": "code",
   "execution_count": 2,
   "metadata": {
    "id": "RDetrRV3id7k"
   },
   "outputs": [],
   "source": [
    "from transformers import T5Tokenizer, T5ForSequenceClassification, Trainer, TrainingArguments, EarlyStoppingCallback\n",
    "from sklearn.metrics import accuracy_score, f1_score\n",
    "from torch.utils.data import Dataset\n",
    "\n",
    "from sklearn.model_selection import train_test_split\n",
    "\n",
    "import pandas as pd\n",
    "import torch"
   ]
  },
  {
   "cell_type": "markdown",
   "metadata": {},
   "source": [
    "## focal loss "
   ]
  },
  {
   "cell_type": "code",
   "execution_count": 3,
   "metadata": {},
   "outputs": [],
   "source": [
    "## dataset 불러오기\n",
    "final_data = pd.read_csv('final_train_2.csv')"
   ]
  },
  {
   "cell_type": "code",
   "execution_count": 4,
   "metadata": {},
   "outputs": [],
   "source": [
    "data = final_data.copy()"
   ]
  },
  {
   "cell_type": "code",
   "execution_count": 5,
   "metadata": {},
   "outputs": [
    {
     "data": {
      "text/plain": [
       "loan_approved\n",
       "0    4810\n",
       "1    2647\n",
       "Name: count, dtype: int64"
      ]
     },
     "execution_count": 5,
     "metadata": {},
     "output_type": "execute_result"
    }
   ],
   "source": [
    "# label 분포 확인\n",
    "data['loan_approved'].value_counts()"
   ]
  },
  {
   "cell_type": "markdown",
   "metadata": {},
   "source": [
    "모델을 저장 할 PATH설정"
   ]
  },
  {
   "cell_type": "code",
   "execution_count": null,
   "metadata": {},
   "outputs": [],
   "source": [
    "MODEL_PATH = 'tmp_model_5' # 저장경로"
   ]
  },
  {
   "cell_type": "markdown",
   "metadata": {},
   "source": [
    "##### Custom Dataset 정의"
   ]
  },
  {
   "cell_type": "code",
   "execution_count": 6,
   "metadata": {},
   "outputs": [],
   "source": [
    "class CustomDataset(Dataset):\n",
    "    def __init__(self, tokenizer, texts, labels, max_length=512):\n",
    "        self.tokenizer = tokenizer\n",
    "        self.texts = texts\n",
    "        self.labels = labels\n",
    "        self.max_length = max_length\n",
    "\n",
    "    def __len__(self):\n",
    "        return len(self.texts)\n",
    "\n",
    "    def __getitem__(self, idx):\n",
    "        inputs = self.tokenizer(\n",
    "            self.texts[idx],\n",
    "            max_length=self.max_length,\n",
    "            padding=\"max_length\",\n",
    "            truncation=True,\n",
    "            return_tensors=\"pt\"\n",
    "            )\n",
    "        inputs['input_ids'] = inputs['input_ids'].squeeze()\n",
    "        inputs['attention_mask'] = inputs['attention_mask'].squeeze()\n",
    "        inputs['labels'] = torch.tensor(self.labels[idx], dtype=torch.long)\n",
    "        return inputs"
   ]
  },
  {
   "cell_type": "markdown",
   "metadata": {},
   "source": [
    "##### 데이터 불러오기 및 Train, Validation set으로 쪼개기"
   ]
  },
  {
   "cell_type": "code",
   "execution_count": 7,
   "metadata": {},
   "outputs": [
    {
     "name": "stdout",
     "output_type": "stream",
     "text": [
      "reasoning_prompt 개수 : 7457\n",
      "대출 승인여부 개수 : 7457\n"
     ]
    },
    {
     "name": "stderr",
     "output_type": "stream",
     "text": [
      "You are using the default legacy behaviour of the <class 'transformers.models.t5.tokenization_t5.T5Tokenizer'>. This is expected, and simply means that the `legacy` (previous) behavior will be used so nothing changes for you. If you want to use the new behaviour, set `legacy=False`. This should only be set if you understand what it means, and thoroughly read the reason why this was added as explained in https://github.com/huggingface/transformers/pull/24565\n",
      "Some weights of T5ForSequenceClassification were not initialized from the model checkpoint at google/flan-t5-small and are newly initialized: ['classification_head.dense.bias', 'classification_head.dense.weight', 'classification_head.out_proj.bias', 'classification_head.out_proj.weight']\n",
      "You should probably TRAIN this model on a down-stream task to be able to use it for predictions and inference.\n"
     ]
    }
   ],
   "source": [
    "\n",
    "final_data_df = data.copy()\n",
    "\n",
    "reasoning_prompt = final_data_df['reasoning_sentences'].tolist() # reasoning 리스트\n",
    "loan_approved = final_data_df['loan_approved'].tolist() # rating 리스트\n",
    "\n",
    "print(f'reasoning_prompt 개수 : {len(reasoning_prompt)}')\n",
    "print(f'대출 승인여부 개수 : {len(loan_approved)}')\n",
    "\n",
    "\n",
    "# 데이터셋 분리\n",
    "train_sentences, valid_sentences, train_scores, valid_scores = train_test_split(reasoning_prompt,\n",
    "                                                                                loan_approved,\n",
    "                                                                                test_size=0.2,\n",
    "                                                                                random_state=42, stratify = loan_approved)\n",
    "\n",
    "tokenizer = T5Tokenizer.from_pretrained(\"google/flan-t5-small\")\n",
    "model = T5ForSequenceClassification.from_pretrained(\"google/flan-t5-small\", num_labels=2)\n",
    "\n",
    "\n",
    "train_dataset = CustomDataset(tokenizer,\n",
    "                              train_sentences,\n",
    "                              train_scores,\n",
    "                              max_length=256)\n",
    "\n",
    "valid_dataset = CustomDataset(tokenizer,\n",
    "                              valid_sentences,\n",
    "                              valid_scores,\n",
    "                              max_length=256)"
   ]
  },
  {
   "cell_type": "markdown",
   "metadata": {},
   "source": [
    "##### 평가 지표 정의(accuracy, f1)"
   ]
  },
  {
   "cell_type": "code",
   "execution_count": 37,
   "metadata": {},
   "outputs": [],
   "source": [
    "def compute_metrics(pred):\n",
    "    labels = pred.label_ids\n",
    "    predictions = pred.predictions[0] if isinstance(pred.predictions, tuple) else pred.predictions\n",
    "    preds = predictions.argmax(-1)\n",
    "    acc = accuracy_score(labels, preds)\n",
    "    f1 = f1_score(labels, preds, average=\"weighted\")  # F1-score\n",
    "    return {\"accuracy\": acc, \"f1\": f1}"
   ]
  },
  {
   "cell_type": "markdown",
   "metadata": {},
   "source": [
    "#### training args 정의"
   ]
  },
  {
   "cell_type": "code",
   "execution_count": null,
   "metadata": {},
   "outputs": [],
   "source": [
    "training_args = TrainingArguments(\n",
    "    output_dir='./result',\n",
    "    overwrite_output_dir=True,\n",
    "    logging_dir='./logs',\n",
    "    logging_steps=10,\n",
    "    num_train_epochs=50,\n",
    "    per_device_train_batch_size=64,\n",
    "    per_device_eval_batch_size=64,\n",
    "    save_strategy='epoch',\n",
    "    eval_strategy='epoch',\n",
    "    load_best_model_at_end=True, # 최적의 모델 로드\n",
    "    metric_for_best_model=\"eval_loss\", # Early Stopping 기준 메트릭\n",
    "    greater_is_better=False,     # 평가 메트릭이 작을수록 더 나은 경우 (e.g., loss)\n",
    "    save_total_limit=1,\n",
    "    learning_rate=1e-5,\n",
    "    weight_decay=0.01,\n",
    "    warmup_steps=100,\n",
    "    report_to='wandb',\n",
    "    run_name='mini_project_2_loan_approved',\n",
    "    seed=42\n",
    ")"
   ]
  },
  {
   "cell_type": "markdown",
   "metadata": {},
   "source": [
    "##### 학습"
   ]
  },
  {
   "cell_type": "code",
   "execution_count": 39,
   "metadata": {},
   "outputs": [],
   "source": [
    "import torch\n",
    "import torch.nn.functional as F\n",
    "\n",
    "class FocalLoss(torch.nn.Module):\n",
    "    def __init__(self, alpha=1.0, gamma=2.0, reduction='mean'):\n",
    "        super(FocalLoss, self).__init__()\n",
    "        self.alpha = alpha\n",
    "        self.gamma = gamma\n",
    "        self.reduction = reduction\n",
    "\n",
    "    def forward(self, inputs, targets):\n",
    "        ce_loss = F.cross_entropy(inputs, targets, reduction='none')\n",
    "        pt = torch.exp(-ce_loss)  # pt = probability of correct class\n",
    "        focal_loss = self.alpha * (1 - pt) ** self.gamma * ce_loss\n",
    "\n",
    "        if self.reduction == 'mean':\n",
    "            return focal_loss.mean()\n",
    "        elif self.reduction == 'sum':\n",
    "            return focal_loss.sum()\n",
    "        else:\n",
    "            return focal_loss\n"
   ]
  },
  {
   "cell_type": "code",
   "execution_count": null,
   "metadata": {},
   "outputs": [],
   "source": [
    "from transformers import Trainer\n",
    "\n",
    "class FocalLossTrainer(Trainer):\n",
    "    def __init__(self, focal_loss_params, *args, **kwargs):\n",
    "        super().__init__(*args, **kwargs)\n",
    "        self.loss_fct = FocalLoss(**focal_loss_params) if focal_loss_params else nn.CrossEntropyLoss()\n",
    "\n",
    "\n",
    "    def compute_loss(self, model, inputs, return_outputs=False, **kwargs):\n",
    "        labels = inputs.pop(\"labels\")\n",
    "        outputs = model(**inputs)\n",
    "        logits = outputs.logits\n",
    "\n",
    "        # loss_fct를 사용하여 손실 계산\n",
    "        loss = self.loss_fct(logits.view(-1, self.model.config.num_labels), labels.view(-1))\n",
    "        return (loss, outputs) if return_outputs else loss\n",
    "\n"
   ]
  },
  {
   "cell_type": "code",
   "execution_count": null,
   "metadata": {},
   "outputs": [],
   "source": [
    "## Custom trainer 정의 \n",
    "from torch import nn\n",
    "from transformers import Trainer\n",
    "\n",
    "# CustomTrainer 사용\n",
    "focal_loss_params = {\"alpha\": 0.25, \"gamma\": 2.0, \"reduction\": \"mean\"}\n",
    "trainer = FocalLossTrainer(\n",
    "    model=model,\n",
    "    args=training_args,\n",
    "    train_dataset=train_dataset,\n",
    "    eval_dataset=valid_dataset,\n",
    "    compute_metrics=compute_metrics,\n",
    "    focal_loss_params=focal_loss_params ,\n",
    "    callbacks=[EarlyStoppingCallback(early_stopping_patience=3)]\n",
    ")"
   ]
  },
  {
   "cell_type": "code",
   "execution_count": null,
   "metadata": {},
   "outputs": [
    {
     "data": {
      "text/html": [
       "\n",
       "    <div>\n",
       "      \n",
       "      <progress value='1833' max='2350' style='width:300px; height:20px; vertical-align: middle;'></progress>\n",
       "      [1833/2350 25:21 < 07:09, 1.20 it/s, Epoch 39/50]\n",
       "    </div>\n",
       "    <table border=\"1\" class=\"dataframe\">\n",
       "  <thead>\n",
       " <tr style=\"text-align: left;\">\n",
       "      <th>Epoch</th>\n",
       "      <th>Training Loss</th>\n",
       "      <th>Validation Loss</th>\n",
       "      <th>Accuracy</th>\n",
       "      <th>F1</th>\n",
       "    </tr>\n",
       "  </thead>\n",
       "  <tbody>\n",
       "    <tr>\n",
       "      <td>1</td>\n",
       "      <td>0.044500</td>\n",
       "      <td>0.041391</td>\n",
       "      <td>0.645442</td>\n",
       "      <td>0.510675</td>\n",
       "    </tr>\n",
       "    <tr>\n",
       "      <td>2</td>\n",
       "      <td>0.042500</td>\n",
       "      <td>0.040516</td>\n",
       "      <td>0.645442</td>\n",
       "      <td>0.510675</td>\n",
       "    </tr>\n",
       "    <tr>\n",
       "      <td>3</td>\n",
       "      <td>0.041400</td>\n",
       "      <td>0.039853</td>\n",
       "      <td>0.646783</td>\n",
       "      <td>0.513705</td>\n",
       "    </tr>\n",
       "    <tr>\n",
       "      <td>4</td>\n",
       "      <td>0.040600</td>\n",
       "      <td>0.039072</td>\n",
       "      <td>0.648794</td>\n",
       "      <td>0.521635</td>\n",
       "    </tr>\n",
       "    <tr>\n",
       "      <td>5</td>\n",
       "      <td>0.039800</td>\n",
       "      <td>0.038133</td>\n",
       "      <td>0.661528</td>\n",
       "      <td>0.559479</td>\n",
       "    </tr>\n",
       "    <tr>\n",
       "      <td>6</td>\n",
       "      <td>0.038600</td>\n",
       "      <td>0.036958</td>\n",
       "      <td>0.698391</td>\n",
       "      <td>0.645144</td>\n",
       "    </tr>\n",
       "    <tr>\n",
       "      <td>7</td>\n",
       "      <td>0.037700</td>\n",
       "      <td>0.035765</td>\n",
       "      <td>0.714477</td>\n",
       "      <td>0.679806</td>\n",
       "    </tr>\n",
       "    <tr>\n",
       "      <td>8</td>\n",
       "      <td>0.035600</td>\n",
       "      <td>0.035649</td>\n",
       "      <td>0.723190</td>\n",
       "      <td>0.692378</td>\n",
       "    </tr>\n",
       "    <tr>\n",
       "      <td>9</td>\n",
       "      <td>0.034400</td>\n",
       "      <td>0.035261</td>\n",
       "      <td>0.735255</td>\n",
       "      <td>0.718371</td>\n",
       "    </tr>\n",
       "    <tr>\n",
       "      <td>10</td>\n",
       "      <td>0.034000</td>\n",
       "      <td>0.034908</td>\n",
       "      <td>0.733244</td>\n",
       "      <td>0.719541</td>\n",
       "    </tr>\n",
       "    <tr>\n",
       "      <td>11</td>\n",
       "      <td>0.033800</td>\n",
       "      <td>0.033909</td>\n",
       "      <td>0.737265</td>\n",
       "      <td>0.727618</td>\n",
       "    </tr>\n",
       "    <tr>\n",
       "      <td>12</td>\n",
       "      <td>0.033400</td>\n",
       "      <td>0.033343</td>\n",
       "      <td>0.745308</td>\n",
       "      <td>0.737269</td>\n",
       "    </tr>\n",
       "    <tr>\n",
       "      <td>13</td>\n",
       "      <td>0.033600</td>\n",
       "      <td>0.032148</td>\n",
       "      <td>0.750000</td>\n",
       "      <td>0.746910</td>\n",
       "    </tr>\n",
       "    <tr>\n",
       "      <td>14</td>\n",
       "      <td>0.030200</td>\n",
       "      <td>0.031913</td>\n",
       "      <td>0.758043</td>\n",
       "      <td>0.752459</td>\n",
       "    </tr>\n",
       "    <tr>\n",
       "      <td>15</td>\n",
       "      <td>0.030100</td>\n",
       "      <td>0.031826</td>\n",
       "      <td>0.763405</td>\n",
       "      <td>0.756189</td>\n",
       "    </tr>\n",
       "    <tr>\n",
       "      <td>16</td>\n",
       "      <td>0.028700</td>\n",
       "      <td>0.031214</td>\n",
       "      <td>0.771448</td>\n",
       "      <td>0.763986</td>\n",
       "    </tr>\n",
       "    <tr>\n",
       "      <td>17</td>\n",
       "      <td>0.029200</td>\n",
       "      <td>0.030452</td>\n",
       "      <td>0.780161</td>\n",
       "      <td>0.774874</td>\n",
       "    </tr>\n",
       "    <tr>\n",
       "      <td>18</td>\n",
       "      <td>0.029300</td>\n",
       "      <td>0.029346</td>\n",
       "      <td>0.785523</td>\n",
       "      <td>0.782930</td>\n",
       "    </tr>\n",
       "    <tr>\n",
       "      <td>19</td>\n",
       "      <td>0.028700</td>\n",
       "      <td>0.028625</td>\n",
       "      <td>0.787534</td>\n",
       "      <td>0.785364</td>\n",
       "    </tr>\n",
       "    <tr>\n",
       "      <td>20</td>\n",
       "      <td>0.028700</td>\n",
       "      <td>0.028552</td>\n",
       "      <td>0.795576</td>\n",
       "      <td>0.792476</td>\n",
       "    </tr>\n",
       "    <tr>\n",
       "      <td>21</td>\n",
       "      <td>0.028600</td>\n",
       "      <td>0.027527</td>\n",
       "      <td>0.802949</td>\n",
       "      <td>0.801975</td>\n",
       "    </tr>\n",
       "    <tr>\n",
       "      <td>22</td>\n",
       "      <td>0.028200</td>\n",
       "      <td>0.027900</td>\n",
       "      <td>0.804290</td>\n",
       "      <td>0.802647</td>\n",
       "    </tr>\n",
       "    <tr>\n",
       "      <td>23</td>\n",
       "      <td>0.027300</td>\n",
       "      <td>0.027425</td>\n",
       "      <td>0.810992</td>\n",
       "      <td>0.810496</td>\n",
       "    </tr>\n",
       "    <tr>\n",
       "      <td>24</td>\n",
       "      <td>0.026900</td>\n",
       "      <td>0.027173</td>\n",
       "      <td>0.811662</td>\n",
       "      <td>0.811378</td>\n",
       "    </tr>\n",
       "    <tr>\n",
       "      <td>25</td>\n",
       "      <td>0.026100</td>\n",
       "      <td>0.027095</td>\n",
       "      <td>0.814343</td>\n",
       "      <td>0.813381</td>\n",
       "    </tr>\n",
       "    <tr>\n",
       "      <td>26</td>\n",
       "      <td>0.025800</td>\n",
       "      <td>0.027032</td>\n",
       "      <td>0.816354</td>\n",
       "      <td>0.815533</td>\n",
       "    </tr>\n",
       "    <tr>\n",
       "      <td>27</td>\n",
       "      <td>0.027700</td>\n",
       "      <td>0.026788</td>\n",
       "      <td>0.817694</td>\n",
       "      <td>0.816965</td>\n",
       "    </tr>\n",
       "    <tr>\n",
       "      <td>28</td>\n",
       "      <td>0.024700</td>\n",
       "      <td>0.026483</td>\n",
       "      <td>0.818365</td>\n",
       "      <td>0.818010</td>\n",
       "    </tr>\n",
       "    <tr>\n",
       "      <td>29</td>\n",
       "      <td>0.025100</td>\n",
       "      <td>0.026255</td>\n",
       "      <td>0.821716</td>\n",
       "      <td>0.821328</td>\n",
       "    </tr>\n",
       "    <tr>\n",
       "      <td>30</td>\n",
       "      <td>0.025900</td>\n",
       "      <td>0.026304</td>\n",
       "      <td>0.823727</td>\n",
       "      <td>0.822643</td>\n",
       "    </tr>\n",
       "    <tr>\n",
       "      <td>31</td>\n",
       "      <td>0.025400</td>\n",
       "      <td>0.026137</td>\n",
       "      <td>0.826408</td>\n",
       "      <td>0.826371</td>\n",
       "    </tr>\n",
       "    <tr>\n",
       "      <td>32</td>\n",
       "      <td>0.025300</td>\n",
       "      <td>0.026038</td>\n",
       "      <td>0.829759</td>\n",
       "      <td>0.829156</td>\n",
       "    </tr>\n",
       "    <tr>\n",
       "      <td>33</td>\n",
       "      <td>0.024300</td>\n",
       "      <td>0.026179</td>\n",
       "      <td>0.831769</td>\n",
       "      <td>0.831290</td>\n",
       "    </tr>\n",
       "    <tr>\n",
       "      <td>34</td>\n",
       "      <td>0.024400</td>\n",
       "      <td>0.025809</td>\n",
       "      <td>0.831099</td>\n",
       "      <td>0.830732</td>\n",
       "    </tr>\n",
       "    <tr>\n",
       "      <td>35</td>\n",
       "      <td>0.023500</td>\n",
       "      <td>0.025471</td>\n",
       "      <td>0.831769</td>\n",
       "      <td>0.831734</td>\n",
       "    </tr>\n",
       "    <tr>\n",
       "      <td>36</td>\n",
       "      <td>0.023700</td>\n",
       "      <td>0.025421</td>\n",
       "      <td>0.834450</td>\n",
       "      <td>0.833749</td>\n",
       "    </tr>\n",
       "    <tr>\n",
       "      <td>37</td>\n",
       "      <td>0.024300</td>\n",
       "      <td>0.025555</td>\n",
       "      <td>0.834450</td>\n",
       "      <td>0.833978</td>\n",
       "    </tr>\n",
       "    <tr>\n",
       "      <td>38</td>\n",
       "      <td>0.023500</td>\n",
       "      <td>0.025715</td>\n",
       "      <td>0.834450</td>\n",
       "      <td>0.834273</td>\n",
       "    </tr>\n",
       "    <tr>\n",
       "      <td>39</td>\n",
       "      <td>0.023700</td>\n",
       "      <td>0.025578</td>\n",
       "      <td>0.835121</td>\n",
       "      <td>0.834835</td>\n",
       "    </tr>\n",
       "  </tbody>\n",
       "</table><p>"
      ],
      "text/plain": [
       "<IPython.core.display.HTML object>"
      ]
     },
     "metadata": {},
     "output_type": "display_data"
    },
    {
     "name": "stderr",
     "output_type": "stream",
     "text": [
      "There were missing keys in the checkpoint model loaded: ['transformer.encoder.embed_tokens.weight', 'transformer.decoder.embed_tokens.weight'].\n"
     ]
    },
    {
     "data": {
      "text/html": [
       "\n",
       "    <div>\n",
       "      \n",
       "      <progress value='12' max='12' style='width:300px; height:20px; vertical-align: middle;'></progress>\n",
       "      [12/12 00:04]\n",
       "    </div>\n",
       "    "
      ],
      "text/plain": [
       "<IPython.core.display.HTML object>"
      ]
     },
     "metadata": {},
     "output_type": "display_data"
    },
    {
     "data": {
      "text/plain": [
       "('tmp_model_5/tokenizer_config.json',\n",
       " 'tmp_model_5/special_tokens_map.json',\n",
       " 'tmp_model_5/spiece.model',\n",
       " 'tmp_model_5/added_tokens.json')"
      ]
     },
     "execution_count": 42,
     "metadata": {},
     "output_type": "execute_result"
    }
   ],
   "source": [
    "trainer.train()\n",
    "trainer.evaluate()\n",
    "\n",
    "model.save_pretrained(MODEL_PATH)\n",
    "tokenizer.save_pretrained(MODEL_PATH)"
   ]
  },
  {
   "cell_type": "code",
   "execution_count": null,
   "metadata": {},
   "outputs": [],
   "source": []
  }
 ],
 "metadata": {
  "accelerator": "GPU",
  "colab": {
   "gpuType": "A100",
   "provenance": []
  },
  "kernelspec": {
   "display_name": "mini_project_2",
   "language": "python",
   "name": "python3"
  },
  "language_info": {
   "codemirror_mode": {
    "name": "ipython",
    "version": 3
   },
   "file_extension": ".py",
   "mimetype": "text/x-python",
   "name": "python",
   "nbconvert_exporter": "python",
   "pygments_lexer": "ipython3",
   "version": "3.12.7"
  }
 },
 "nbformat": 4,
 "nbformat_minor": 0
}
